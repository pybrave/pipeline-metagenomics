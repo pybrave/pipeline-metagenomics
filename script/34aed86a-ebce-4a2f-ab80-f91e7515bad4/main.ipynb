{
 "cells": [
  {
   "cell_type": "markdown",
   "id": "78ffb2db",
   "metadata": {},
   "source": [
    "# 自动生成的 Notebook\n",
    "这里写一些说明"
   ]
  },
  {
   "cell_type": "code",
   "execution_count": null,
   "id": "31b8e3a1",
   "metadata": {},
   "outputs": [],
   "source": [
    "import sys\n",
    "print(sys.argv)"
   ]
  },
  {
   "cell_type": "code",
   "execution_count": null,
   "id": "bf42f9ba",
   "metadata": {},
   "outputs": [],
   "source": [
    "print('Hello from generated notebook!')"
   ]
  }
 ],
 "metadata": {},
 "nbformat": 4,
 "nbformat_minor": 5
}
